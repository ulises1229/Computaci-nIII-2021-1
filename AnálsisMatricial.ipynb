{
  "nbformat": 4,
  "nbformat_minor": 0,
  "metadata": {
    "colab": {
      "name": "AnálsisMatricial.ipynb",
      "private_outputs": true,
      "provenance": [],
      "collapsed_sections": [],
      "include_colab_link": true
    },
    "kernelspec": {
      "name": "python3",
      "display_name": "Python 3"
    }
  },
  "cells": [
    {
      "cell_type": "markdown",
      "metadata": {
        "id": "view-in-github",
        "colab_type": "text"
      },
      "source": [
        "<a href=\"https://colab.research.google.com/github/ulises1229/ComputacionIII-2021-1/blob/master/An%C3%A1lsisMatricial.ipynb\" target=\"_parent\"><img src=\"https://colab.research.google.com/assets/colab-badge.svg\" alt=\"Open In Colab\"/></a>"
      ]
    },
    {
      "cell_type": "markdown",
      "metadata": {
        "id": "WUEndrpzDDZ5"
      },
      "source": [
        "# Computación III - Contenido\n",
        "### UNIDAD II Análisis Matricial\n",
        "***\n",
        "+ Autor: Ulises Olivares\n",
        "+uolivares@unam.mx\n",
        "+ Oct 09, 2020\n",
        "***\n",
        "### Contenido\n",
        "***\n",
        "1. Determinantes \n",
        "2. Trazas\n",
        "3. Operaciones elementales\n",
        "4. Multiplicación de matrices\n",
        "5. Normas de vectores \n",
        "6. Normas de matrices\n",
        "7. Inversa de una Matriz\n",
        "8. Factorización de matrices\n",
        "***"
      ]
    },
    {
      "cell_type": "markdown",
      "metadata": {
        "id": "TEmXdjt1Jlkq"
      },
      "source": [
        "## 0. *Numpy - Repaso*\n",
        "\n",
        "Demostrar el uso de arreglos unidimensionales y bi-dimensionales utilizando numpy.\n"
      ]
    },
    {
      "cell_type": "code",
      "metadata": {
        "id": "iV2tLujWH1N1"
      },
      "source": [
        "# importar librería de numpy \n",
        "import numpy as np\n",
        "\n",
        "# Creara un arreglo bi-dimensional\n",
        "a = np.array([[1.0,2,3], \n",
        "              [4,5,6]], \n",
        "             dtype = np.float16)\n",
        "# Imprimir matriz\n",
        "print(a)\n",
        "\n",
        "# IMPRIMIR ELEMENTOS\n",
        "print(\"Dimensiones: \" + str(a.ndim))\n",
        "print(\"Forma: \" + str(a.shape))\n",
        "print(\"Tipo de datos: \" + str(a.dtype))"
      ],
      "execution_count": null,
      "outputs": []
    },
    {
      "cell_type": "code",
      "metadata": {
        "id": "kq_pDjfjJWjF"
      },
      "source": [
        "# Creación de arreglos\n",
        "# Arreglo de 1s\n",
        "ones = np.ones((3,5), dtype=np.float32)\n",
        "# Arreglo de 0s\n",
        "zeros = np.zeros((5,5), dtype=np.float32)\n",
        "\n",
        "#Impresión de matrices\n",
        "print(ones)\n",
        "print(zeros)\n",
        "\n",
        "print(\"Matriz 1s tiene: \" + str(len(ones)) + \" filas y \" + str(len(ones[0])) + \" columnas\")\n",
        "\n",
        "# Acceso a la matriz usando índices\n",
        "filas = len(ones)\n",
        "columnas = len(ones[0])\n",
        "\n",
        "print(\"Impresión utilizando índices\")\n",
        "for i in range(filas):\n",
        "  for j in range(columnas):\n",
        "    print(ones[i][j], end= \" \")\n",
        "  print(\" \")\n",
        "\n",
        "print(\"Impresión utilizando elementos\")\n",
        "# Acceso usando elementos\n",
        "for i in ones:\n",
        "  for j in i:\n",
        "    print(j , end =\" \")\n",
        "  print(\" \")"
      ],
      "execution_count": null,
      "outputs": []
    },
    {
      "cell_type": "code",
      "metadata": {
        "id": "Lhd4g_CDLatT"
      },
      "source": [
        "# Generación de un vector a través del uso de rangos\n",
        "np.arange(1, 100)"
      ],
      "execution_count": null,
      "outputs": []
    },
    {
      "cell_type": "code",
      "metadata": {
        "id": "SM-DLDRBPgho"
      },
      "source": [
        "# Concatenando arreglos o matrices\n",
        "A = np.ones((5,3), dtype = np.float32)\n",
        "B = np.zeros((5,4), dtype = np.float32)\n",
        "\n",
        "# concatenar matrices\n",
        "np.concatenate([A,B], axis = 1)"
      ],
      "execution_count": null,
      "outputs": []
    },
    {
      "cell_type": "code",
      "metadata": {
        "id": "S9bqh64vQD5a"
      },
      "source": [
        "# Uso de astype para hacer un cast de tipos de datos\n",
        "A = np.zeros((5,4), dtype = np.float32)\n",
        "print(len(A[0]))\n",
        "\n",
        "for i in range(len(A)):\n",
        "  for j in range(len(A[0])):\n",
        "    A[i][j] = np.pi\n",
        "print(A)\n",
        "\n",
        "print(A.astype(np.int16))"
      ],
      "execution_count": null,
      "outputs": []
    },
    {
      "cell_type": "code",
      "metadata": {
        "id": "-YYZOHcCRkjk"
      },
      "source": [
        "# Uso de np.zeros_like y np.ones_like\n",
        "A = np.ones((4,4))\n",
        "print(A)\n",
        "# zeros_like genera un arreglo de las \n",
        "# mismas dimensiones que el original \n",
        "B = np.zeros_like(A)\n",
        "print(B)"
      ],
      "execution_count": null,
      "outputs": []
    },
    {
      "cell_type": "code",
      "metadata": {
        "id": "wGKMiDBIRfjT"
      },
      "source": [
        "# Generación de arreglos aleatorios\n",
        "A = np.random.random((5, 5))\n",
        "print(A)\n",
        "# Generación de números enteros del 0 al n-1 \n",
        "n = 10\n",
        "B= np.random.randint(10, size = (7,7))\n",
        "print(B)"
      ],
      "execution_count": null,
      "outputs": []
    },
    {
      "cell_type": "code",
      "metadata": {
        "id": "TEbefbC4Q-ER"
      },
      "source": [
        "# Transformaciones de arreglos\n",
        "A = np.array([1,2,3,4,5,6])\n",
        "print(A)\n",
        "\n",
        "# Transformar a 3 filas, 2 columnas\n",
        "A = A.reshape(3, 2)\n",
        "print(A)\n",
        "\n",
        "# Se utiliza -1 para determinar cols\n",
        "A = A.reshape(2, -1)\n",
        "print(A)\n",
        "\n",
        "# Transormar a un arreglo lineal\n",
        "A = A.ravel()\n",
        "print(A)"
      ],
      "execution_count": null,
      "outputs": []
    },
    {
      "cell_type": "code",
      "metadata": {
        "id": "kdP0tMurZrka"
      },
      "source": [
        "# Transpuesta de una matriz\n",
        "A = np.arange(25).reshape(5,5)\n",
        "print(\"Matriz Original: \\n\" + str(A))\n",
        "# Imprimir matriz transpuesta\n",
        "print(\"Matriz Transpuesta: \\n\" + str(A.T))\n",
        "# Imprimir matriz \n",
        "print(\"Matriz Transpuesta: \\n\" + str(A.transpose((1,0))))\n",
        "\n"
      ],
      "execution_count": null,
      "outputs": []
    },
    {
      "cell_type": "code",
      "metadata": {
        "id": "u44c41iHY8qZ"
      },
      "source": [
        "# Operadores Matemáticos\n",
        "A = np.arange(100).reshape(10,10)\n",
        "print(\"Primer Matriz: \\n\" + str(A))\n",
        "\n",
        "B = np.arange(100, 200).reshape(10, 10)\n",
        "print(\"Segunda Matriz: \\n\" + str(B))\n",
        "\n",
        "# Calcular la suma de ambas matrices\n",
        "print(\"Suma: \"  + str(A + B))\n",
        "\n",
        "# Calcular la resta de ambas matrices\n",
        "print(\"resta: \"  + str(B - A))\n",
        "\n",
        "# Calcular la multiplicación de ambas matrices\n",
        "print(\"multiplicación: \"  + str(A * B))"
      ],
      "execution_count": null,
      "outputs": []
    },
    {
      "cell_type": "code",
      "metadata": {
        "id": "6ypxSJKoY3p9"
      },
      "source": [
        "# Operadores lógicos\n",
        "A = np.random.random((5,5))\n",
        "print(\"Matriz Original: \\n\" + str(A))\n",
        "\n",
        "# Operador lógico\n",
        "print(\"Operador lógico a >5 \\n\" + str(A > 0.5))"
      ],
      "execution_count": null,
      "outputs": []
    },
    {
      "cell_type": "code",
      "metadata": {
        "id": "_jgah2aMe1A1"
      },
      "source": [
        "# Operaciones in-situ \n",
        "A = np.random.randint(10, size= (5,5))\n",
        "print(\"Matriz A Original: \\n\" + str(A))\n",
        "\n",
        "B = A = np.random.randint(10, size= (5,5))\n",
        "print(\"Matriz B Original: \\n\" + str(B))\n",
        "\n",
        "# Operación in-situ\n",
        "A += B\n",
        "print(\"Matriz A Modificada: \\n\" + str(A))"
      ],
      "execution_count": null,
      "outputs": []
    },
    {
      "cell_type": "code",
      "metadata": {
        "id": "qnL5B5LMfzz9"
      },
      "source": [
        "# Funciones universales\n",
        "A = np.random.randint(10, 100, size= (5,5))\n",
        "print(\"Matriz A Original: \\n\" + str(A))\n",
        "\n",
        "# Calcular Raiz cuadrada\n",
        "print(\"Raiz Cuadrada: \\n\" + str(np.sqrt(A)))\n",
        "\n",
        "# Calcular raiz a elemento de la matriz\n",
        "print(np.sqrt(A[0][0]))\n"
      ],
      "execution_count": null,
      "outputs": []
    },
    {
      "cell_type": "markdown",
      "metadata": {
        "id": "0qFDMEpz4oKY"
      },
      "source": [
        "#### Inversa de una matriz\n"
      ]
    },
    {
      "cell_type": "code",
      "metadata": {
        "id": "gGbw1o3x4ruc"
      },
      "source": [
        "# Inversa de una matriz\n",
        "import numpy as np\n",
        "\n",
        "# Inicializar una matriz \n",
        "A = np.random.randint(10, size= (5,5))\n",
        "print(\"Matriz A Original: \\n\" + str(A))\n",
        "\n",
        "# Calcular matriz inversa\n",
        "B = np.linalg.inv(A)\n",
        "print(\"Matriz Inversa A^-1: \\n\" + str(B))"
      ],
      "execution_count": null,
      "outputs": []
    },
    {
      "cell_type": "markdown",
      "metadata": {
        "id": "5JO3NyGytIri"
      },
      "source": [
        "***\n",
        "Termina repaso de Numpy \n",
        "***"
      ]
    },
    {
      "cell_type": "markdown",
      "metadata": {
        "id": "c6Oerl8qspNv"
      },
      "source": [
        "## 1. *Determinantes de una matriz*"
      ]
    },
    {
      "cell_type": "code",
      "metadata": {
        "id": "lmYH_Jz0EB3N"
      },
      "source": [
        "import sys\n",
        "import os\n",
        "\n",
        "class Matriz:\n",
        "    \n",
        "    def determinante2x2(self, A):\n",
        "        if (len(A) == len(A[0]) and len(A) == 2):\n",
        "            return (A[0][0] * A[1][1]) - (A[0][1] * A[1][0])\n",
        "        elif len(A) > 2:\n",
        "            print(\"La dimensión de la matriz excede el límite de 2x2!, No fue posible calcular el determinante\")\n",
        "        else: \n",
        "            print(\"No es posible calcular determinante, filas y columnas son distintos\")\n",
        "         \n",
        "    \"\"\"def determinante3x3(self, A):\n",
        "        det = 0\n",
        "        if (len(A) == len(A[0]) and len(A) == 3):\n",
        "            # Utilizando la primer fila para obtener el determinante \n",
        "            for j in range(len(A)):\n",
        "                if (j % 2 ) != 0:\n",
        "                    a = A[0][j] * -1                    \n",
        "                \n",
        "                # Inicializar matriz menor\n",
        "                M = np.zeros(len(n)-1,len(n)-1)\n",
        "                # Utilizar indexación de numpy para evitar el segundo ciclo.\n",
        "                for k in range(len(A)):\n",
        "                    ## Establecer los valores de la matriz menor (M)\n",
        "                ##detM = self.determinante2x2(M)\n",
        "                #det += a * detM\n",
        "        return det\"\"\"\n",
        "\n",
        "    def sumaMatrices(self, A, B):\n",
        "        # Definir una matriz de las mismas dimensiones de A\n",
        "        C = np.zeros_like(A);\n",
        "        # Verificar que las matrices sean iguales\n",
        "        if (len(A) == len(B) and len(A[0] == len(B[0]))):\n",
        "            for i in range(len(A)):\n",
        "                for j in range(len(A[0])):\n",
        "                    C[i][j] = A[i][j] + B[i][j]\n",
        "        return C\n",
        "\n",
        "    def sumaMatricesNp(self, A, B):\n",
        "        return A + B\n",
        "    \n",
        "    def restaMatricesNp(self, A, B):\n",
        "        return A - B\n",
        "\n",
        "    def restaMatrices(self, A, B):\n",
        "        # Definir una matriz de las mismas dimensiones de A\n",
        "        C = np.zeros_like(A);\n",
        "        # Verificar que las matrices sean iguales\n",
        "        if (len(A) == len(B) and len(A[0] == len(B[0]))):\n",
        "            for i in range(len(A)):\n",
        "                for j in range(len(A[0])):\n",
        "                    C[i][j] = A[i][j] - B[i][j]\n",
        "        return C\n",
        "\n",
        "\n",
        "    def multiplicaciónMatrices(self, A, B):\n",
        "        if(len(A[0]) == len(B)):\n",
        "            for (for i in range(len(A)):\n",
        "                for j in range(len(A[0]):\n",
        "                    for k in rang(len (A[0])):\n",
        "                        ## Completar multiplicación de matrices\n",
        "            ###### \n",
        "        else: \n",
        "            print(\"No es posible realizar la multiplicación matricial\")\n",
        "\n",
        "    def multiplicacionMatNp(self, A, B):\n",
        "        retrun A * B\n",
        "\n",
        "    def divisionMatElement(self, A,B)\n",
        "        # Definir una matriz de las mismas dimensiones de A\n",
        "        C = np.zeros_like(A);\n",
        "        # Verificar que las matrices sean iguales\n",
        "        if (len(A) == len(B) and len(A[0] == len(B[0]))):\n",
        "            for i in range(len(A)):\n",
        "                for j in range(len(A[0])):\n",
        "                    C[i][j] = A[i][j] / B[i][j]\n",
        "        return C\n",
        "\n",
        "    ## Hacer la división matricial utilizando al definición de la inversa de una matriz\n"
      ],
      "execution_count": null,
      "outputs": []
    },
    {
      "cell_type": "code",
      "metadata": {
        "id": "e96FfxvHD-8u"
      },
      "source": [
        "import numpy as np\n",
        "import sympy\n",
        "from sympy.abc import x,y,z\n",
        "from sympy.solvers import solve\n",
        "\n",
        "# Método main\n",
        "def main():\n",
        "    \n",
        "    \n",
        "    # Definir e inicializar una matriz de 2 x 2\n",
        "    A = np.array([[1,2,3], \n",
        "              [3,4,5]], \n",
        "             dtype = np.float32)\n",
        "    # inicio, fin, tamaño\n",
        "    \n",
        "    #A = np.random.randint(1, 10, size= (5,5))\n",
        "    \n",
        "    # Creación de objeto    \n",
        "    objMat = Matriz()\n",
        "\n",
        "    # Cálculo de determinante de 2 x2\n",
        "    detA = objMat.determinante2x2(A)\n",
        "\n",
        "    # ¿El cálculo fué válido?\n",
        "    if detA != None:\n",
        "        print(\"El determinante de la matriz A \\n\", A,   \"Es: \", detA)\n",
        "\n",
        "    # definir matriz de 3x3\n",
        "    B = np.array([[0,1,3], \n",
        "                  [5,3,1],\n",
        "                  [-1,2,0]],\n",
        "                 dtype = np.float32)\n",
        "    print(\"Matriz de 3x3\\n\", B)\n",
        "    #detB = objMat.determinante3x3(B)\n",
        "\n",
        "    # despejando z de la ecuación \n",
        "    f = 4*x - 3*y + 5*z -3\n",
        "    f1 = solve(f, z)\n",
        "    print(f1)\n",
        "\n",
        "\n",
        "if __name__ == \"__main__\":\n",
        "    main() "
      ],
      "execution_count": null,
      "outputs": []
    },
    {
      "cell_type": "markdown",
      "metadata": {
        "id": "x2faF8ECbOBw"
      },
      "source": [
        "### 2 . *Vectorización de matrices*\n",
        "\n",
        "La vectorización de matrices consiste en disminuir la dimensionalidad de una matriz. Convertir una matriz a un vector y acceder los elementos a través de un solo índice."
      ]
    },
    {
      "cell_type": "code",
      "metadata": {
        "id": "6cWgDYORb2_O"
      },
      "source": [
        "import time\n",
        "import  numpy as np\n",
        "\n",
        "class Matrix:\n",
        "    def __init__(self, f, c, M):\n",
        "        self.f = f\n",
        "        self.c = c\n",
        "        self.M = M;\n",
        "\n",
        "    def suma(self):\n",
        "        start = time.time()\n",
        "        z = np.zeros_like(self.M)\n",
        "        for i in range(len(self.M)):\n",
        "            for j in range(len(self.M[0])):\n",
        "                z[i][j] = self.M[i][j] + self.M[i][j]\n",
        "        end = time.time()\n",
        "        print(\"Total matrix sum time: \", (end-start)*1000, \"ms\")\n",
        "        return z\n",
        "    \n",
        "    def sumaNumpy(self):\n",
        "        start = time.time()\n",
        "        z = np.zeros_like(self.M)\n",
        "        z = self.M + self.M\n",
        "        end = time.time()\n",
        "        print(\"Total matrix Numpy sum time: \", (end-start)*1000, \"ms\")\n",
        "        return z\n",
        "\n",
        "    def vectorizedSum(self, V):\n",
        "        start = time.time()\n",
        "        Z = np.zeros(self.f*self.c)\n",
        "        for i in range (self.c*self.f):\n",
        "            Z[i] = V[i] + V[i]\n",
        "        end = time.time()\n",
        "        print(\"Total vectorized matrix sum time: \", (end-start)*1000, \"ms\")\n",
        "\n",
        "    def vectorizedSumNumpy(self, V):\n",
        "        start = time.time()\n",
        "        Z = V + V\n",
        "        end = time.time()\n",
        "        print(\"Total vectorized matrix Numpy sum time: \", (end-start)*1000, \"ms\")\n",
        "\n",
        "    def vectorizedMult(self, V):\n",
        "        # Implementar multiplicación\n",
        "\n",
        "\n",
        "def main():\n",
        "    f = 500\n",
        "    c = 500\n",
        "\n",
        "    M = np.random.randint(10, size= (f,c))\n",
        "    N = np.random.randint(10, size= (f,c))\n",
        "\n",
        "    # Definición manual de vector \n",
        "    V1 = np.zeros(f*c)\n",
        "    for i in range(len(M)):\n",
        "        for j in range(len(M[0])):\n",
        "            V1[j + i * len(M[0])] = M[i][j]\n",
        "\n",
        "    # Vectorización automática\n",
        "    V = M.reshape(f*c)\n",
        "\n",
        "    objM = Matrix(f, c, M)\n",
        "    objM.suma()\n",
        "    objM.sumaNumpy()\n",
        "    objM.vectorizedSum(V)\n",
        "    objM.vectorizedSumNumpy(V)\n",
        "\n",
        "\n",
        "\n",
        "if __name__ == \"__main__\":\n",
        "    main() "
      ],
      "execution_count": null,
      "outputs": []
    },
    {
      "cell_type": "markdown",
      "metadata": {
        "id": "GlwfOsM9hQ4D"
      },
      "source": [
        "# *3. Matrices dispersas*\n",
        "\n",
        "Una matriz dispersa es aquella que contiene muy pocos elementos distintos de 0.\n",
        "\n",
        "Referencias adicionales:\n",
        "\n",
        "1. [Sparse Matrix](https://en.wikipedia.org/wiki/Sparse_matrix)\n",
        "\n",
        "2. [Aplicaciones](https://machinelearningmastery.com/sparse-matrices-for-machine-learning/#:~:text=A%20sparse%20matrix%20is%20a,of%20its%20coefficients%20are%20zero.)\n"
      ]
    },
    {
      "cell_type": "code",
      "metadata": {
        "id": "kTplcsvOhVXK"
      },
      "source": [
        "import numpy as np\n",
        "import random\n",
        "import time\n",
        "\n",
        "class Matrix:\n",
        "    def __init__(self, f, c, M):\n",
        "        self.f = f\n",
        "        self.c = c\n",
        "        self.M = M;\n",
        "\n",
        "    def suma(self):\n",
        "        start = time.time()\n",
        "        z = np.zeros_like(self.M)\n",
        "        for i in range(len(self.M)):\n",
        "            for j in range(len(self.M[0])):\n",
        "                z[i][j] = self.M[i][j] + self.M[i][j]\n",
        "        end = time.time()\n",
        "        print(\"Tiempo total suma convencional: \", (end-start)*1000, \"ms\")\n",
        "        return z, (end-start)*1000\n",
        "    \n",
        "    def sumaNumpy(self):\n",
        "        start = time.time()\n",
        "        z = np.zeros_like(self.M)\n",
        "        z = self.M + self.M\n",
        "        end = time.time()\n",
        "        print(\"Tiempo total suma NUMPY: \", (end-start)*1000, \"ms\")\n",
        "        return z\n",
        "\n",
        "    def vectorizedSum(self, V):\n",
        "        start = time.time()\n",
        "        Z = np.zeros(self.f*self.c)\n",
        "        for i in range (self.c*self.f):\n",
        "            Z[i] = V[i] + V[i]\n",
        "        end = time.time()\n",
        "        print(\"Tiempo total suma vectorizada: \", (end-start)*1000, \"ms\")\n",
        "\n",
        "    def vectorizedSumNumpy(self, V):\n",
        "        start = time.time()\n",
        "        Z = V + V\n",
        "        end = time.time()\n",
        "        print(\"Tiempo total suma vectorizada con NUMPY: \", (end-start)*1000, \"ms\")\n",
        "\n",
        "    def vectorizedMult(self, V):\n",
        "        # Implementar multiplicación\n",
        "        print(\"Multiplication\")\n",
        "\n",
        "\"\"\"\n",
        "    Estructura para representar un elemento disperso\n",
        "\"\"\"\n",
        "class SparseStructure:\n",
        "    def __init__(self, f, c, value):\n",
        "        self.fila = f\n",
        "        self.col = c\n",
        "        self.value = value\n",
        "\n",
        "    \n",
        "\n",
        "class SparseMatrix:\n",
        "    \n",
        "    \"\"\"\n",
        "        Suma de una matriz dispersa\n",
        "    \"\"\"\n",
        "    def suma(self, M):\n",
        "        z = list()\n",
        "        start = time.time()\n",
        "\n",
        "        # Misma matriz\n",
        "        for i in range(len(M)):\n",
        "            z.append(M[i].value + M[i].value)\n",
        "        \n",
        "        # Matrices distintas?? \n",
        "        end = time.time()\n",
        "\n",
        "        print(\"Tiempo total suma dispersa: \", (end-start)*1000, \"ms\")\n",
        "        return z, (end-start)*1000\n",
        "    \n",
        "    \"\"\"\n",
        "        Imprimir matriz dispersa\n",
        "    \"\"\"\n",
        "    def printSparseMatrix(self,vectorSparse):\n",
        "        #Impresión sólo de elementos !=0\n",
        "        for i in vectorSparse:\n",
        "            #Acceso eficiente\n",
        "            print(i.fila, i.col ,i.value)\n",
        "            # Acceder a la matriz original (No eficiente)\n",
        "            # print(\"Valor Matriz: \", M[i.fila][i.col])\n",
        "\n",
        "\n",
        "    \"\"\"\n",
        "        Calcular la transpuesta de una matriz dispersa\n",
        "    \"\"\"\n",
        "    def transposeSparseMatrix(self, vectorSparse):\n",
        "        transp = list()\n",
        "        for i in vectorSparse:\n",
        "            tmp = i.fila\n",
        "            i.fila = i.col\n",
        "            i.col = tmp\n",
        "            transp.append(i)\n",
        "        return transp\n",
        "\n",
        "\n",
        "def initMatrix(f, c, M):\n",
        "        elements = int ((f * c) * 0.1)\n",
        "        cont = 0\n",
        "        for i in range(len(M)):\n",
        "            for j in range(len(M[0])):\n",
        "                if(random.random() >= 0.75 ):\n",
        "                    if (cont >= elements):\n",
        "                        break;\n",
        "                    M[i][j] = random.randint(1,10);\n",
        "                    cont += 1\n",
        "\n",
        "def main():\n",
        "    # Inicializar variables\n",
        "    f = 10\n",
        "    c = 10\n",
        "\n",
        "    # Definición de matrices\n",
        "    M = np.zeros((f, c), dtype=np.float)\n",
        "    N = np.zeros((f, c), dtype=np.float)\n",
        "\n",
        "    vectorSparseM = list() # Inicializando una lista vacía \n",
        "\n",
        "    # iniclizar de forma aleatoria el 10 -15% de la matriz\n",
        "    initMatrix(f, c, M)\n",
        "    initMatrix(f, c, N)\n",
        "\n",
        "    # inicializar estructura dispersa\n",
        "    for i in range(len(M)):\n",
        "        for j in range(len(M[0])):\n",
        "            if(M[i][j] != 0): \n",
        "                vectorSparseM.append(SparseStructure(i,j, M[i][j])); # Se almacena un objeto en cada posición de la lista\n",
        "    \n",
        "    #print(\"Matriz original\")\n",
        "    print (M)\n",
        "    print (N)\n",
        "\n",
        "    objSparse = SparseMatrix()\n",
        "    printSparseMatrix(vectorSparseM)\n",
        "\n",
        "\n",
        "    # Suma convencional\n",
        "    objMat = Matrix(f, c, M)\n",
        "    M1, sumConv = objMat.suma()\n",
        "    \n",
        "    # Suma dispersa\n",
        "    objSparse = SparseMatrix()\n",
        "    M2, sumSparse =  objSparse.suma(vectorSparseM)\n",
        "    print(\"SpeedUp: \", sumConv/sumSparse)\n",
        "\n",
        "    transp = objSparse.transposeSparseMatrix(vectorSparseM)\n",
        "    print(\"Matrix transpuesta\")\n",
        "    printSparseMatrix(transp)\n",
        "\n",
        "\n",
        "    \n",
        "\n",
        "    # ¿Transpuesta de una matriz?\n",
        "\n",
        "\n",
        "\n",
        "    \n",
        "if __name__ == \"__main__\":\n",
        "    main() "
      ],
      "execution_count": null,
      "outputs": []
    },
    {
      "cell_type": "markdown",
      "metadata": {
        "id": "Yp_Ea_7AX3H_"
      },
      "source": [
        "# *4. Normas de Matrices y vectores*"
      ]
    },
    {
      "cell_type": "code",
      "metadata": {
        "id": "E92Xz1ZcX9l1"
      },
      "source": [
        "import time\n",
        "import numpy as np\n",
        "\n",
        "class Norm:\n",
        "    \n",
        "    def vectorNorm():\n",
        "        return 1\n",
        "    \"\"\"\n",
        "        Realizar sumatoria de valores absolutos por fila\n",
        "    \"\"\"\n",
        "    def rowSum(self, M):\n",
        "        sum = np.zeros(len(M));\n",
        "        for i in range (len(M)):\n",
        "            for j in range (len(M[0])):\n",
        "                sum[i] += abs(M[i][j]); \n",
        "\n",
        "        return sum;\n",
        "\n",
        "    \"\"\"\n",
        "        Calcular norma l1 e inf\n",
        "    \"\"\"\n",
        "    def matrixNorm(self, M, p):\n",
        "        if (p == 'inf'):\n",
        "            sumVec = self.rowSum(M)\n",
        "        elif (p == 'l1'):\n",
        "            M = M.T\n",
        "            sumVec = self.rowSum(M)\n",
        "\n",
        "        # Elemento mayor\n",
        "        mayor = -9999\n",
        "        for i in sumVec:\n",
        "            if (i > mayor):\n",
        "                mayor = i\n",
        "        \n",
        "        print(\"La norma\", p, \"es\", mayor)\n",
        "\n",
        "\n",
        "\n",
        "\n",
        "\n",
        "\n",
        "def main():\n",
        "    # Inicializar variables\n",
        "    f = 10\n",
        "    c = 10\n",
        "\n",
        "    # Definición de matrices\n",
        "    M = np.random.randint(10, size = (f, c))\n",
        "\n",
        "    objNorm = Norm()\n",
        "\n",
        "    objNorm.matrixNorm(M, 'inf')\n",
        "\n",
        "\n",
        "\n",
        "if __name__ == \"__main__\":\n",
        "    main() "
      ],
      "execution_count": null,
      "outputs": []
    },
    {
      "cell_type": "markdown",
      "metadata": {
        "id": "xTf-8VmCaa4U"
      },
      "source": [
        "\n",
        "# *5. Inversa de una matriz*\n",
        "\n",
        "\n",
        "  "
      ]
    },
    {
      "cell_type": "code",
      "metadata": {
        "id": "0rPFd-0ucDdG"
      },
      "source": [
        "import time\n",
        "\n",
        "# Clase para calcular la inversa de una matriz\n",
        "class Inverse:\n",
        "\n",
        "\n",
        "def main():\n",
        "\n",
        "\n",
        "if __name__ == \"__main__\":\n",
        "    main() "
      ],
      "execution_count": null,
      "outputs": []
    }
  ]
}